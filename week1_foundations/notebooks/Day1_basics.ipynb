{
 "cells": [
  {
   "cell_type": "markdown",
   "id": "f752da2b",
   "metadata": {},
   "source": [
    "Section 1 - Python warm up"
   ]
  },
  {
   "cell_type": "code",
   "execution_count": 6,
   "id": "18d2a33a",
   "metadata": {},
   "outputs": [
    {
     "name": "stdout",
     "output_type": "stream",
     "text": [
      "Hello Vigneshwari\n",
      "<class 'str'> <class 'int'> <class 'float'> <class 'bool'>\n"
     ]
    }
   ],
   "source": [
    "#Print and Variables\n",
    "name = \"Vigneshwari\"\n",
    "print(\"Hello\",name)\n",
    "age = 33\n",
    "height = 5.4\n",
    "is_student = True\n",
    "print(type(name),type(age),type(height),type(is_student))"
   ]
  },
  {
   "cell_type": "code",
   "execution_count": 7,
   "id": "d91ac19e",
   "metadata": {},
   "outputs": [
    {
     "name": "stdout",
     "output_type": "stream",
     "text": [
      "DATA SCIENCE IS FUN!\n",
      "data science is fun!\n",
      "['Data', 'Science', 'is', 'fun!']\n",
      "!nuf si ecneicS ataD\n"
     ]
    }
   ],
   "source": [
    "#String Operations\n",
    "quote = \"Data Science is fun!\"\n",
    "print(quote.upper())\n",
    "print(quote.lower())\n",
    "print(quote.split())\n",
    "print(quote[::-1])   # reverse"
   ]
  },
  {
   "cell_type": "markdown",
   "id": "72ce27bf",
   "metadata": {},
   "source": [
    "Section 2 - Loops & Conditionals"
   ]
  },
  {
   "cell_type": "code",
   "execution_count": null,
   "id": "a107b81c",
   "metadata": {},
   "outputs": [
    {
     "name": "stdout",
     "output_type": "stream",
     "text": [
      "Even\n"
     ]
    }
   ],
   "source": [
    "#Even or Odd\n",
    "n = int(input(\"Enter number:\"))\n",
    "if n%2 == 0:\n",
    "    print(\"Even\")\n",
    "else:\n",
    "    print(\"Odd\")"
   ]
  },
  {
   "cell_type": "code",
   "execution_count": 9,
   "id": "a7263647",
   "metadata": {},
   "outputs": [
    {
     "name": "stdout",
     "output_type": "stream",
     "text": [
      "Sum of even numbers: 30\n"
     ]
    }
   ],
   "source": [
    "# Sum of Even numbers\n",
    "nums = [1,2,3,4,5,6,7,8,9,10]\n",
    "even_sum = 0\n",
    "for i in nums:\n",
    "    if i % 2 == 0:\n",
    "        even_sum += i\n",
    "print(\"Sum of even numbers:\",even_sum)"
   ]
  },
  {
   "cell_type": "markdown",
   "id": "0459cfc3",
   "metadata": {},
   "source": [
    "Section 3 - Functions & Recursions"
   ]
  },
  {
   "cell_type": "code",
   "execution_count": 12,
   "id": "804e45db",
   "metadata": {},
   "outputs": [
    {
     "name": "stdout",
     "output_type": "stream",
     "text": [
      "6\n"
     ]
    }
   ],
   "source": [
    "#Factorial function\n",
    "def factorial(n):\n",
    "    if n == 0 or n ==1:\n",
    "        return 1\n",
    "    else:\n",
    "        return n * factorial(n-1)\n",
    "print(factorial(3))"
   ]
  },
  {
   "cell_type": "markdown",
   "id": "3c9c5b8c",
   "metadata": {},
   "source": [
    "Section 4 - Collections"
   ]
  },
  {
   "cell_type": "code",
   "execution_count": 13,
   "id": "e910d3f4",
   "metadata": {},
   "outputs": [
    {
     "name": "stdout",
     "output_type": "stream",
     "text": [
      "[1, 4, 9, 16, 25, 36, 49, 64, 81, 100]\n"
     ]
    }
   ],
   "source": [
    "#List Comprehension\n",
    "squares = [x**2 for x in range(1,11)]\n",
    "print(squares)"
   ]
  },
  {
   "cell_type": "code",
   "execution_count": 14,
   "id": "a99cce51",
   "metadata": {},
   "outputs": [
    {
     "name": "stdout",
     "output_type": "stream",
     "text": [
      "{'x': 10, 'y': 25, 'z': 30}\n"
     ]
    }
   ],
   "source": [
    "#Dictionary merge and sort\n",
    "a = {'x':10,'y':20}\n",
    "b = {'y':25,'z':30}\n",
    "merged = {**a,**b}\n",
    "sorted_dict = dict(sorted(merged.items()))\n",
    "print(sorted_dict)"
   ]
  },
  {
   "cell_type": "markdown",
   "id": "16e166c4",
   "metadata": {},
   "source": [
    "Challenges"
   ]
  },
  {
   "cell_type": "code",
   "execution_count": 16,
   "id": "99c10b0b",
   "metadata": {},
   "outputs": [
    {
     "name": "stdout",
     "output_type": "stream",
     "text": [
      "Original: datascience\n",
      "Reversed: ecneicsatad\n"
     ]
    }
   ],
   "source": [
    "#Reverse a string manually\n",
    "text = \"datascience\"\n",
    "reversed_text = \"\"\n",
    "for char in text:\n",
    "    reversed_text = char + reversed_text\n",
    "print(\"Original:\",text)\n",
    "print(\"Reversed:\",reversed_text)"
   ]
  },
  {
   "cell_type": "code",
   "execution_count": 17,
   "id": "7aca36db",
   "metadata": {},
   "outputs": [
    {
     "name": "stdout",
     "output_type": "stream",
     "text": [
      "Unique items in list: {'apple': 3, 'banana': 2, 'orange': 1}\n"
     ]
    }
   ],
   "source": [
    "#Count unique items in list using dictionary\n",
    "items = [\"apple\", \"banana\", \"apple\", \"orange\", \"banana\", \"apple\"]\n",
    "count_dict = {}\n",
    "\n",
    "for item in items:\n",
    "    if item in count_dict:\n",
    "        count_dict[item] += 1\n",
    "    else:\n",
    "        count_dict[item] = 1\n",
    "print(\"Unique items in list:\",count_dict)\n"
   ]
  },
  {
   "cell_type": "code",
   "execution_count": 18,
   "id": "b6a9b014",
   "metadata": {},
   "outputs": [
    {
     "name": "stdout",
     "output_type": "stream",
     "text": [
      "Max num: 25\n",
      "Min_num: 3\n"
     ]
    }
   ],
   "source": [
    "#Find max/min\n",
    "numbers = [12, 5, 7, 25, 3, 18]\n",
    "\n",
    "max_num = numbers[0]\n",
    "min_num = numbers[0]\n",
    "\n",
    "for num in numbers:\n",
    "    if num > max_num:\n",
    "        max_num = num\n",
    "    if num < min_num:\n",
    "        min_num = num\n",
    "print(\"Max num:\",max_num)\n",
    "print(\"Min_num:\",min_num)"
   ]
  },
  {
   "cell_type": "code",
   "execution_count": 20,
   "id": "b22e39e9",
   "metadata": {},
   "outputs": [
    {
     "name": "stdout",
     "output_type": "stream",
     "text": [
      "Fibonacci sequence up to 6 :\n",
      "0 1 1 2 3 5 "
     ]
    }
   ],
   "source": [
    "#Fibonacci series\n",
    "n = int(input(\"Enter number:\"))\n",
    "a,b = 0,1\n",
    "print(\"Fibonacci sequence up to\",n,\":\")\n",
    "\n",
    "while (a<=n):\n",
    "    print(a,end=\" \")\n",
    "    a,b = b,a+b\n",
    "    "
   ]
  }
 ],
 "metadata": {
  "kernelspec": {
   "display_name": "Python 3",
   "language": "python",
   "name": "python3"
  },
  "language_info": {
   "codemirror_mode": {
    "name": "ipython",
    "version": 3
   },
   "file_extension": ".py",
   "mimetype": "text/x-python",
   "name": "python",
   "nbconvert_exporter": "python",
   "pygments_lexer": "ipython3",
   "version": "3.13.0"
  }
 },
 "nbformat": 4,
 "nbformat_minor": 5
}
